{
 "cells": [
  {
   "cell_type": "code",
   "execution_count": 1,
   "metadata": {},
   "outputs": [],
   "source": [
    "import sys\n",
    "\n",
    "sys.path.append('../src')\n",
    "\n",
    "from utils import load_data, moving_averages, linear_trend_slope, drop_na, volatility, add_lags, add_day_period_features, pearson_correlation, random_forest_feature_importance, rfe_feature_importance\n",
    "%reload_ext autoreload"
   ]
  },
  {
   "cell_type": "code",
   "execution_count": 2,
   "metadata": {},
   "outputs": [
    {
     "data": {
      "text/html": [
       "<div>\n",
       "<style scoped>\n",
       "    .dataframe tbody tr th:only-of-type {\n",
       "        vertical-align: middle;\n",
       "    }\n",
       "\n",
       "    .dataframe tbody tr th {\n",
       "        vertical-align: top;\n",
       "    }\n",
       "\n",
       "    .dataframe thead th {\n",
       "        text-align: right;\n",
       "    }\n",
       "</style>\n",
       "<table border=\"1\" class=\"dataframe\">\n",
       "  <thead>\n",
       "    <tr style=\"text-align: right;\">\n",
       "      <th></th>\n",
       "      <th>open_time</th>\n",
       "      <th>open_price</th>\n",
       "      <th>high_price</th>\n",
       "      <th>low_price</th>\n",
       "      <th>close_price</th>\n",
       "      <th>volume</th>\n",
       "      <th>close_time</th>\n",
       "    </tr>\n",
       "  </thead>\n",
       "  <tbody>\n",
       "    <tr>\n",
       "      <th>0</th>\n",
       "      <td>2017-08-17</td>\n",
       "      <td>301.13</td>\n",
       "      <td>312.18</td>\n",
       "      <td>298.00</td>\n",
       "      <td>302.00</td>\n",
       "      <td>7030.71034</td>\n",
       "      <td>2017-08-17 23:59:59.999</td>\n",
       "    </tr>\n",
       "    <tr>\n",
       "      <th>1</th>\n",
       "      <td>2017-08-18</td>\n",
       "      <td>302.00</td>\n",
       "      <td>311.79</td>\n",
       "      <td>283.94</td>\n",
       "      <td>293.96</td>\n",
       "      <td>9537.84646</td>\n",
       "      <td>2017-08-18 23:59:59.999</td>\n",
       "    </tr>\n",
       "    <tr>\n",
       "      <th>2</th>\n",
       "      <td>2017-08-19</td>\n",
       "      <td>293.31</td>\n",
       "      <td>299.90</td>\n",
       "      <td>278.00</td>\n",
       "      <td>290.91</td>\n",
       "      <td>2146.19773</td>\n",
       "      <td>2017-08-19 23:59:59.999</td>\n",
       "    </tr>\n",
       "    <tr>\n",
       "      <th>3</th>\n",
       "      <td>2017-08-20</td>\n",
       "      <td>289.41</td>\n",
       "      <td>300.53</td>\n",
       "      <td>282.85</td>\n",
       "      <td>299.10</td>\n",
       "      <td>2510.13871</td>\n",
       "      <td>2017-08-20 23:59:59.999</td>\n",
       "    </tr>\n",
       "    <tr>\n",
       "      <th>4</th>\n",
       "      <td>2017-08-21</td>\n",
       "      <td>299.10</td>\n",
       "      <td>346.52</td>\n",
       "      <td>294.60</td>\n",
       "      <td>323.29</td>\n",
       "      <td>5219.44542</td>\n",
       "      <td>2017-08-21 23:59:59.999</td>\n",
       "    </tr>\n",
       "  </tbody>\n",
       "</table>\n",
       "</div>"
      ],
      "text/plain": [
       "   open_time  open_price  high_price  low_price  close_price      volume   \n",
       "0 2017-08-17      301.13      312.18     298.00       302.00  7030.71034  \\\n",
       "1 2017-08-18      302.00      311.79     283.94       293.96  9537.84646   \n",
       "2 2017-08-19      293.31      299.90     278.00       290.91  2146.19773   \n",
       "3 2017-08-20      289.41      300.53     282.85       299.10  2510.13871   \n",
       "4 2017-08-21      299.10      346.52     294.60       323.29  5219.44542   \n",
       "\n",
       "               close_time  \n",
       "0 2017-08-17 23:59:59.999  \n",
       "1 2017-08-18 23:59:59.999  \n",
       "2 2017-08-19 23:59:59.999  \n",
       "3 2017-08-20 23:59:59.999  \n",
       "4 2017-08-21 23:59:59.999  "
      ]
     },
     "execution_count": 2,
     "metadata": {},
     "output_type": "execute_result"
    }
   ],
   "source": [
    "path='../data/raw/1day.csv'\n",
    "df = load_data(path)\n",
    "df.head()"
   ]
  },
  {
   "cell_type": "code",
   "execution_count": 5,
   "metadata": {},
   "outputs": [],
   "source": [
    "df = moving_averages(df, windows=[5, 10, 20, 50, 100, 200])\n",
    "df = volatility(df, window=5)\n",
    "df = add_lags(df, [1, 2, 3, 4, 5, 6, 7, 8, 9, 10])\n",
    "df = add_day_period_features(df, day_of_week=True, day_of_month=True, quarter=True)\n",
    "df = linear_trend_slope(df, windows=[5, 10, 20, 50, 100, 200])\n",
    "df = drop_na(df)"
   ]
  },
  {
   "cell_type": "code",
   "execution_count": 6,
   "metadata": {},
   "outputs": [
    {
     "data": {
      "text/plain": [
       "close_price    1.000000\n",
       "high_price     0.998885\n",
       "low_price      0.998863\n",
       "open_price     0.997702\n",
       "lag_1          0.997700\n",
       "ma_5           0.997495\n",
       "lag_2          0.995799\n",
       "ma_10          0.993897\n",
       "lag_3          0.993803\n",
       "lag_4          0.991691\n",
       "dtype: float64"
      ]
     },
     "execution_count": 6,
     "metadata": {},
     "output_type": "execute_result"
    }
   ],
   "source": [
    "correlation = pearson_correlation(df)\n",
    "correlation.sort_values(ascending=False).head(10)"
   ]
  },
  {
   "cell_type": "code",
   "execution_count": 7,
   "metadata": {},
   "outputs": [
    {
     "data": {
      "text/html": [
       "<div>\n",
       "<style scoped>\n",
       "    .dataframe tbody tr th:only-of-type {\n",
       "        vertical-align: middle;\n",
       "    }\n",
       "\n",
       "    .dataframe tbody tr th {\n",
       "        vertical-align: top;\n",
       "    }\n",
       "\n",
       "    .dataframe thead th {\n",
       "        text-align: right;\n",
       "    }\n",
       "</style>\n",
       "<table border=\"1\" class=\"dataframe\">\n",
       "  <thead>\n",
       "    <tr style=\"text-align: right;\">\n",
       "      <th></th>\n",
       "      <th>Feature</th>\n",
       "      <th>Importance</th>\n",
       "    </tr>\n",
       "  </thead>\n",
       "  <tbody>\n",
       "    <tr>\n",
       "      <th>1</th>\n",
       "      <td>high_price</td>\n",
       "      <td>0.547358</td>\n",
       "    </tr>\n",
       "    <tr>\n",
       "      <th>2</th>\n",
       "      <td>low_price</td>\n",
       "      <td>0.362537</td>\n",
       "    </tr>\n",
       "    <tr>\n",
       "      <th>8</th>\n",
       "      <td>ma_100</td>\n",
       "      <td>0.013771</td>\n",
       "    </tr>\n",
       "    <tr>\n",
       "      <th>24</th>\n",
       "      <td>lag_5</td>\n",
       "      <td>0.010286</td>\n",
       "    </tr>\n",
       "    <tr>\n",
       "      <th>4</th>\n",
       "      <td>ma_5</td>\n",
       "      <td>0.010008</td>\n",
       "    </tr>\n",
       "    <tr>\n",
       "      <th>25</th>\n",
       "      <td>lag_6</td>\n",
       "      <td>0.008410</td>\n",
       "    </tr>\n",
       "    <tr>\n",
       "      <th>5</th>\n",
       "      <td>ma_10</td>\n",
       "      <td>0.007738</td>\n",
       "    </tr>\n",
       "    <tr>\n",
       "      <th>0</th>\n",
       "      <td>open_price</td>\n",
       "      <td>0.006143</td>\n",
       "    </tr>\n",
       "    <tr>\n",
       "      <th>23</th>\n",
       "      <td>lag_4</td>\n",
       "      <td>0.006108</td>\n",
       "    </tr>\n",
       "    <tr>\n",
       "      <th>7</th>\n",
       "      <td>ma_50</td>\n",
       "      <td>0.005505</td>\n",
       "    </tr>\n",
       "  </tbody>\n",
       "</table>\n",
       "</div>"
      ],
      "text/plain": [
       "       Feature  Importance\n",
       "1   high_price    0.547358\n",
       "2    low_price    0.362537\n",
       "8       ma_100    0.013771\n",
       "24       lag_5    0.010286\n",
       "4         ma_5    0.010008\n",
       "25       lag_6    0.008410\n",
       "5        ma_10    0.007738\n",
       "0   open_price    0.006143\n",
       "23       lag_4    0.006108\n",
       "7        ma_50    0.005505"
      ]
     },
     "execution_count": 7,
     "metadata": {},
     "output_type": "execute_result"
    }
   ],
   "source": [
    "importance_rf = random_forest_feature_importance(df)\n",
    "importance_rf.sort_values(by=\"Importance\", ascending=False).head(10)"
   ]
  },
  {
   "cell_type": "code",
   "execution_count": 4,
   "metadata": {},
   "outputs": [
    {
     "data": {
      "text/plain": [
       "Index(['open_price', 'high_price', 'low_price', 'ma_5', 'ma_10', 'day_of_week',\n",
       "       'quarter', 'linear_trend_5', 'linear_trend_10', 'linear_trend_200'],\n",
       "      dtype='object')"
      ]
     },
     "execution_count": 4,
     "metadata": {},
     "output_type": "execute_result"
    }
   ],
   "source": [
    "importance_rfe = rfe_feature_importance(df, n_features_to_select=10)\n",
    "importance_rfe"
   ]
  },
  {
   "cell_type": "code",
   "execution_count": null,
   "metadata": {},
   "outputs": [],
   "source": []
  }
 ],
 "metadata": {
  "kernelspec": {
   "display_name": "Python 3",
   "language": "python",
   "name": "python3"
  },
  "language_info": {
   "codemirror_mode": {
    "name": "ipython",
    "version": 3
   },
   "file_extension": ".py",
   "mimetype": "text/x-python",
   "name": "python",
   "nbconvert_exporter": "python",
   "pygments_lexer": "ipython3",
   "version": "3.9.17"
  },
  "orig_nbformat": 4
 },
 "nbformat": 4,
 "nbformat_minor": 2
}
