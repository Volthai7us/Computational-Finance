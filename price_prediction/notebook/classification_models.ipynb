{
 "cells": [
  {
   "cell_type": "code",
   "execution_count": 2,
   "metadata": {},
   "outputs": [],
   "source": [
    "import numpy as np\n",
    "import pandas as pd\n",
    "import matplotlib.pyplot as plt\n",
    "from datetime import datetime\n",
    "import seaborn as sb\n",
    "\n",
    "from sklearn.model_selection import train_test_split\n",
    "from sklearn.preprocessing import StandardScaler\n",
    "from sklearn.linear_model import LogisticRegression\n",
    "from sklearn.svm import SVC\n",
    "from xgboost import XGBClassifier\n",
    "from sklearn import metrics\n",
    "from sklearn.ensemble import RandomForestClassifier, GradientBoostingClassifier\n",
    "from sklearn.tree import DecisionTreeClassifier\n",
    "from sklearn.neighbors import KNeighborsClassifier\n",
    "\n",
    "import warnings\n",
    "warnings.filterwarnings('ignore')"
   ]
  },
  {
   "cell_type": "code",
   "execution_count": 10,
   "metadata": {},
   "outputs": [
    {
     "data": {
      "text/html": [
       "<div>\n",
       "<style scoped>\n",
       "    .dataframe tbody tr th:only-of-type {\n",
       "        vertical-align: middle;\n",
       "    }\n",
       "\n",
       "    .dataframe tbody tr th {\n",
       "        vertical-align: top;\n",
       "    }\n",
       "\n",
       "    .dataframe thead th {\n",
       "        text-align: right;\n",
       "    }\n",
       "</style>\n",
       "<table border=\"1\" class=\"dataframe\">\n",
       "  <thead>\n",
       "    <tr style=\"text-align: right;\">\n",
       "      <th></th>\n",
       "      <th>open_time</th>\n",
       "      <th>open_price</th>\n",
       "      <th>high_price</th>\n",
       "      <th>low_price</th>\n",
       "      <th>close_price</th>\n",
       "      <th>volume</th>\n",
       "      <th>close_time</th>\n",
       "    </tr>\n",
       "  </thead>\n",
       "  <tbody>\n",
       "    <tr>\n",
       "      <th>0</th>\n",
       "      <td>2017-09-01</td>\n",
       "      <td>386.44</td>\n",
       "      <td>394.39</td>\n",
       "      <td>192.00</td>\n",
       "      <td>304.36</td>\n",
       "      <td>1.679371e+05</td>\n",
       "      <td>2017-09-30 23:59:59.999</td>\n",
       "    </tr>\n",
       "    <tr>\n",
       "      <th>1</th>\n",
       "      <td>2017-10-01</td>\n",
       "      <td>305.13</td>\n",
       "      <td>354.00</td>\n",
       "      <td>272.20</td>\n",
       "      <td>304.90</td>\n",
       "      <td>2.311378e+05</td>\n",
       "      <td>2017-10-31 23:59:59.999</td>\n",
       "    </tr>\n",
       "    <tr>\n",
       "      <th>2</th>\n",
       "      <td>2017-11-01</td>\n",
       "      <td>304.89</td>\n",
       "      <td>515.00</td>\n",
       "      <td>274.73</td>\n",
       "      <td>427.43</td>\n",
       "      <td>5.581401e+05</td>\n",
       "      <td>2017-11-30 23:59:59.999</td>\n",
       "    </tr>\n",
       "    <tr>\n",
       "      <th>3</th>\n",
       "      <td>2017-12-01</td>\n",
       "      <td>428.05</td>\n",
       "      <td>864.90</td>\n",
       "      <td>375.01</td>\n",
       "      <td>733.98</td>\n",
       "      <td>1.709681e+06</td>\n",
       "      <td>2017-12-31 23:59:59.999</td>\n",
       "    </tr>\n",
       "    <tr>\n",
       "      <th>4</th>\n",
       "      <td>2018-01-01</td>\n",
       "      <td>733.01</td>\n",
       "      <td>1440.00</td>\n",
       "      <td>716.80</td>\n",
       "      <td>1124.81</td>\n",
       "      <td>4.449875e+06</td>\n",
       "      <td>2018-01-31 23:59:59.999</td>\n",
       "    </tr>\n",
       "  </tbody>\n",
       "</table>\n",
       "</div>"
      ],
      "text/plain": [
       "   open_time  open_price  high_price  low_price  close_price        volume   \n",
       "0 2017-09-01      386.44      394.39     192.00       304.36  1.679371e+05  \\\n",
       "1 2017-10-01      305.13      354.00     272.20       304.90  2.311378e+05   \n",
       "2 2017-11-01      304.89      515.00     274.73       427.43  5.581401e+05   \n",
       "3 2017-12-01      428.05      864.90     375.01       733.98  1.709681e+06   \n",
       "4 2018-01-01      733.01     1440.00     716.80      1124.81  4.449875e+06   \n",
       "\n",
       "               close_time  \n",
       "0 2017-09-30 23:59:59.999  \n",
       "1 2017-10-31 23:59:59.999  \n",
       "2 2017-11-30 23:59:59.999  \n",
       "3 2017-12-31 23:59:59.999  \n",
       "4 2018-01-31 23:59:59.999  "
      ]
     },
     "execution_count": 10,
     "metadata": {},
     "output_type": "execute_result"
    }
   ],
   "source": [
    "df = pd.read_csv('../data/1month.csv')\n",
    "df.columns = ['open_time', 'open_price', 'high_price', 'low_price', 'close_price', 'volume', 'close_time']\n",
    "df['open_time'] = pd.to_datetime(df['open_time'] * 1000, unit='ms')\n",
    "df['close_time'] = pd.to_datetime(df['close_time'], unit='ms')\n",
    "df.head()"
   ]
  },
  {
   "cell_type": "code",
   "execution_count": 11,
   "metadata": {},
   "outputs": [],
   "source": [
    "df['close_day'] = df['close_time'].dt.day\n",
    "df['close_dayofweek'] = df['close_time'].dt.dayofweek\n",
    "df['close_month'] = df['close_time'].dt.month\n",
    "df['close_quarter'] = df['close_time'].dt.quarter\n",
    "df['close_year'] = df['close_time'].dt.year"
   ]
  },
  {
   "cell_type": "code",
   "execution_count": 12,
   "metadata": {},
   "outputs": [],
   "source": [
    "df['target'] = np.where(df['close_price'].shift(-1) > df['close_price'], 1, 0)\n",
    "df['open-close'] = df['open_price'] - df['close_price']\n",
    "df['high-low'] = df['high_price'] - df['low_price']"
   ]
  },
  {
   "cell_type": "code",
   "execution_count": 13,
   "metadata": {},
   "outputs": [
    {
     "data": {
      "text/plain": [
       "target\n",
       "1    38\n",
       "0    30\n",
       "Name: count, dtype: int64"
      ]
     },
     "execution_count": 13,
     "metadata": {},
     "output_type": "execute_result"
    }
   ],
   "source": [
    "df['target'].value_counts()"
   ]
  },
  {
   "cell_type": "code",
   "execution_count": 14,
   "metadata": {},
   "outputs": [],
   "source": [
    "features = df[['open-close', 'high-low']]\n",
    "target = df['target']\n",
    "\n",
    "scaler = StandardScaler()\n",
    "features = scaler.fit_transform(features)"
   ]
  },
  {
   "cell_type": "code",
   "execution_count": 15,
   "metadata": {},
   "outputs": [
    {
     "name": "stdout",
     "output_type": "stream",
     "text": [
      "(54, 2) (14, 2) (54,) (14,)\n"
     ]
    }
   ],
   "source": [
    "X_train, X_test, y_train, y_test = train_test_split(features, target, test_size=0.2, random_state=42)\n",
    "\n",
    "print(X_train.shape, X_test.shape, y_train.shape, y_test.shape)"
   ]
  },
  {
   "cell_type": "code",
   "execution_count": 16,
   "metadata": {},
   "outputs": [
    {
     "name": "stdout",
     "output_type": "stream",
     "text": [
      "Logistic Regression\n",
      "Training Accuracy: 0.6079545454545455\n",
      "Validation Accuracy: 0.5625\n",
      "\n",
      "SVM\n",
      "Training Accuracy: 0.375\n",
      "Validation Accuracy: 0.7708333333333334\n",
      "\n",
      "XGBoost\n",
      "Training Accuracy: 0.9992897727272728\n",
      "Validation Accuracy: 0.5416666666666667\n",
      "\n",
      "Random Forest\n",
      "Training Accuracy: 1.0\n",
      "Validation Accuracy: 0.5208333333333334\n",
      "\n",
      "Gradient Boosting\n",
      "Training Accuracy: 1.0\n",
      "Validation Accuracy: 0.45833333333333337\n",
      "\n",
      "Decision Tree\n",
      "Training Accuracy: 1.0\n",
      "Validation Accuracy: 0.35416666666666663\n",
      "\n",
      "KNN\n",
      "Training Accuracy: 0.6207386363636364\n",
      "Validation Accuracy: 0.3333333333333333\n",
      "\n"
     ]
    }
   ],
   "source": [
    "from sklearn.ensemble import RandomForestClassifier, GradientBoostingClassifier\n",
    "from sklearn.tree import DecisionTreeClassifier\n",
    "from sklearn.neighbors import KNeighborsClassifier\n",
    "\n",
    "models = [\n",
    "    LogisticRegression(),\n",
    "    SVC(kernel='poly', probability=True),\n",
    "    XGBClassifier(),\n",
    "    RandomForestClassifier(),\n",
    "    GradientBoostingClassifier(),\n",
    "    DecisionTreeClassifier(),\n",
    "    KNeighborsClassifier()\n",
    "]\n",
    "\n",
    "names = [\n",
    "    'Logistic Regression',\n",
    "    'SVM',\n",
    "    'XGBoost',\n",
    "    'Random Forest',\n",
    "    'Gradient Boosting',\n",
    "    'Decision Tree',\n",
    "    'KNN'\n",
    "]\n",
    "\n",
    "for model, name in zip(models, names):\n",
    "    model.fit(X_train, y_train)\n",
    "    \n",
    "    print(name)\n",
    "    print('Training Accuracy:', metrics.roc_auc_score(y_train, model.predict_proba(X_train)[:, 1]))\n",
    "    print('Validation Accuracy:', metrics.roc_auc_score(y_test, model.predict_proba(X_test)[:, 1]))\n",
    "    print()\n"
   ]
  },
  {
   "cell_type": "code",
   "execution_count": null,
   "metadata": {},
   "outputs": [],
   "source": []
  }
 ],
 "metadata": {
  "kernelspec": {
   "display_name": "Python 3",
   "language": "python",
   "name": "python3"
  },
  "language_info": {
   "codemirror_mode": {
    "name": "ipython",
    "version": 3
   },
   "file_extension": ".py",
   "mimetype": "text/x-python",
   "name": "python",
   "nbconvert_exporter": "python",
   "pygments_lexer": "ipython3",
   "version": "3.9.16"
  },
  "orig_nbformat": 4
 },
 "nbformat": 4,
 "nbformat_minor": 2
}
