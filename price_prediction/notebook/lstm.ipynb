{
 "cells": [
  {
   "cell_type": "code",
   "execution_count": 45,
   "metadata": {},
   "outputs": [],
   "source": [
    "# tutorial: https://www.kaggle.com/code/meetnagadia/bitcoin-price-prediction-using-lstm\n",
    "# First we will import the necessary Library \n",
    "\n",
    "import os\n",
    "import pandas as pd\n",
    "import numpy as np\n",
    "import math\n",
    "import datetime as dt\n",
    "import matplotlib.pyplot as plt\n",
    "\n",
    "# For Evalution we will use these library\n",
    "\n",
    "from sklearn.metrics import mean_squared_error, mean_absolute_error, explained_variance_score, r2_score \n",
    "from sklearn.metrics import mean_poisson_deviance, mean_gamma_deviance, accuracy_score\n",
    "from sklearn.preprocessing import MinMaxScaler\n",
    "\n",
    "# For model building we will use these library\n",
    "\n",
    "import tensorflow as tf\n",
    "from keras.models import Sequential\n",
    "from keras.layers import Dense, Dropout\n",
    "from keras.layers import LSTM\n",
    "\n",
    "# For PLotting we will use these library\n",
    "\n",
    "import matplotlib.pyplot as plt\n",
    "from itertools import cycle\n",
    "import plotly.graph_objects as go\n",
    "import plotly.express as px\n",
    "from plotly.subplots import make_subplots"
   ]
  },
  {
   "cell_type": "code",
   "execution_count": 46,
   "metadata": {},
   "outputs": [],
   "source": [
    "maindf = pd.read_csv('../data/ETH-USD.csv')"
   ]
  },
  {
   "cell_type": "code",
   "execution_count": 47,
   "metadata": {},
   "outputs": [
    {
     "data": {
      "text/html": [
       "<div>\n",
       "<style scoped>\n",
       "    .dataframe tbody tr th:only-of-type {\n",
       "        vertical-align: middle;\n",
       "    }\n",
       "\n",
       "    .dataframe tbody tr th {\n",
       "        vertical-align: top;\n",
       "    }\n",
       "\n",
       "    .dataframe thead th {\n",
       "        text-align: right;\n",
       "    }\n",
       "</style>\n",
       "<table border=\"1\" class=\"dataframe\">\n",
       "  <thead>\n",
       "    <tr style=\"text-align: right;\">\n",
       "      <th></th>\n",
       "      <th>Date</th>\n",
       "      <th>Open</th>\n",
       "      <th>High</th>\n",
       "      <th>Low</th>\n",
       "      <th>Close</th>\n",
       "      <th>Adj Close</th>\n",
       "      <th>Volume</th>\n",
       "    </tr>\n",
       "  </thead>\n",
       "  <tbody>\n",
       "    <tr>\n",
       "      <th>0</th>\n",
       "      <td>2018-06-28</td>\n",
       "      <td>442.290009</td>\n",
       "      <td>443.618011</td>\n",
       "      <td>419.683014</td>\n",
       "      <td>422.364990</td>\n",
       "      <td>422.364990</td>\n",
       "      <td>1360790016</td>\n",
       "    </tr>\n",
       "    <tr>\n",
       "      <th>1</th>\n",
       "      <td>2018-06-29</td>\n",
       "      <td>422.587006</td>\n",
       "      <td>441.792999</td>\n",
       "      <td>407.946991</td>\n",
       "      <td>436.009003</td>\n",
       "      <td>436.009003</td>\n",
       "      <td>1564499968</td>\n",
       "    </tr>\n",
       "    <tr>\n",
       "      <th>2</th>\n",
       "      <td>2018-06-30</td>\n",
       "      <td>436.209015</td>\n",
       "      <td>458.796997</td>\n",
       "      <td>436.209015</td>\n",
       "      <td>455.179993</td>\n",
       "      <td>455.179993</td>\n",
       "      <td>1475939968</td>\n",
       "    </tr>\n",
       "    <tr>\n",
       "      <th>3</th>\n",
       "      <td>2018-07-01</td>\n",
       "      <td>455.242004</td>\n",
       "      <td>457.139008</td>\n",
       "      <td>446.385010</td>\n",
       "      <td>453.917999</td>\n",
       "      <td>453.917999</td>\n",
       "      <td>1511730048</td>\n",
       "    </tr>\n",
       "    <tr>\n",
       "      <th>4</th>\n",
       "      <td>2018-07-02</td>\n",
       "      <td>453.824005</td>\n",
       "      <td>479.130005</td>\n",
       "      <td>447.110992</td>\n",
       "      <td>475.346985</td>\n",
       "      <td>475.346985</td>\n",
       "      <td>1625789952</td>\n",
       "    </tr>\n",
       "  </tbody>\n",
       "</table>\n",
       "</div>"
      ],
      "text/plain": [
       "         Date        Open        High  ...       Close   Adj Close      Volume\n",
       "0  2018-06-28  442.290009  443.618011  ...  422.364990  422.364990  1360790016\n",
       "1  2018-06-29  422.587006  441.792999  ...  436.009003  436.009003  1564499968\n",
       "2  2018-06-30  436.209015  458.796997  ...  455.179993  455.179993  1475939968\n",
       "3  2018-07-01  455.242004  457.139008  ...  453.917999  453.917999  1511730048\n",
       "4  2018-07-02  453.824005  479.130005  ...  475.346985  475.346985  1625789952\n",
       "\n",
       "[5 rows x 7 columns]"
      ]
     },
     "execution_count": 47,
     "metadata": {},
     "output_type": "execute_result"
    }
   ],
   "source": [
    "maindf.head()"
   ]
  },
  {
   "cell_type": "code",
   "execution_count": 48,
   "metadata": {},
   "outputs": [
    {
     "data": {
      "text/html": [
       "<div>\n",
       "<style scoped>\n",
       "    .dataframe tbody tr th:only-of-type {\n",
       "        vertical-align: middle;\n",
       "    }\n",
       "\n",
       "    .dataframe tbody tr th {\n",
       "        vertical-align: top;\n",
       "    }\n",
       "\n",
       "    .dataframe thead th {\n",
       "        text-align: right;\n",
       "    }\n",
       "</style>\n",
       "<table border=\"1\" class=\"dataframe\">\n",
       "  <thead>\n",
       "    <tr style=\"text-align: right;\">\n",
       "      <th></th>\n",
       "      <th>Open</th>\n",
       "      <th>High</th>\n",
       "      <th>Low</th>\n",
       "      <th>Close</th>\n",
       "      <th>Adj Close</th>\n",
       "      <th>Volume</th>\n",
       "    </tr>\n",
       "  </thead>\n",
       "  <tbody>\n",
       "    <tr>\n",
       "      <th>count</th>\n",
       "      <td>1827.000000</td>\n",
       "      <td>1827.000000</td>\n",
       "      <td>1827.000000</td>\n",
       "      <td>1827.000000</td>\n",
       "      <td>1827.000000</td>\n",
       "      <td>1.827000e+03</td>\n",
       "    </tr>\n",
       "    <tr>\n",
       "      <th>mean</th>\n",
       "      <td>1244.240324</td>\n",
       "      <td>1281.162770</td>\n",
       "      <td>1203.197244</td>\n",
       "      <td>1244.815864</td>\n",
       "      <td>1244.815864</td>\n",
       "      <td>1.371499e+10</td>\n",
       "    </tr>\n",
       "    <tr>\n",
       "      <th>std</th>\n",
       "      <td>1201.921865</td>\n",
       "      <td>1237.977956</td>\n",
       "      <td>1160.468926</td>\n",
       "      <td>1201.388677</td>\n",
       "      <td>1201.388677</td>\n",
       "      <td>1.041622e+10</td>\n",
       "    </tr>\n",
       "    <tr>\n",
       "      <th>min</th>\n",
       "      <td>84.279694</td>\n",
       "      <td>85.342743</td>\n",
       "      <td>82.829887</td>\n",
       "      <td>84.308296</td>\n",
       "      <td>84.308296</td>\n",
       "      <td>1.084810e+09</td>\n",
       "    </tr>\n",
       "    <tr>\n",
       "      <th>25%</th>\n",
       "      <td>209.178719</td>\n",
       "      <td>213.733391</td>\n",
       "      <td>203.658051</td>\n",
       "      <td>208.977218</td>\n",
       "      <td>208.977218</td>\n",
       "      <td>6.581593e+09</td>\n",
       "    </tr>\n",
       "    <tr>\n",
       "      <th>50%</th>\n",
       "      <td>659.185059</td>\n",
       "      <td>711.393555</td>\n",
       "      <td>646.616211</td>\n",
       "      <td>682.642334</td>\n",
       "      <td>682.642334</td>\n",
       "      <td>1.136726e+10</td>\n",
       "    </tr>\n",
       "    <tr>\n",
       "      <th>75%</th>\n",
       "      <td>1878.279663</td>\n",
       "      <td>1920.398559</td>\n",
       "      <td>1845.860535</td>\n",
       "      <td>1879.261170</td>\n",
       "      <td>1879.261170</td>\n",
       "      <td>1.836356e+10</td>\n",
       "    </tr>\n",
       "    <tr>\n",
       "      <th>max</th>\n",
       "      <td>4810.071289</td>\n",
       "      <td>4891.704590</td>\n",
       "      <td>4718.039063</td>\n",
       "      <td>4812.087402</td>\n",
       "      <td>4812.087402</td>\n",
       "      <td>8.448291e+10</td>\n",
       "    </tr>\n",
       "  </tbody>\n",
       "</table>\n",
       "</div>"
      ],
      "text/plain": [
       "              Open         High  ...    Adj Close        Volume\n",
       "count  1827.000000  1827.000000  ...  1827.000000  1.827000e+03\n",
       "mean   1244.240324  1281.162770  ...  1244.815864  1.371499e+10\n",
       "std    1201.921865  1237.977956  ...  1201.388677  1.041622e+10\n",
       "min      84.279694    85.342743  ...    84.308296  1.084810e+09\n",
       "25%     209.178719   213.733391  ...   208.977218  6.581593e+09\n",
       "50%     659.185059   711.393555  ...   682.642334  1.136726e+10\n",
       "75%    1878.279663  1920.398559  ...  1879.261170  1.836356e+10\n",
       "max    4810.071289  4891.704590  ...  4812.087402  8.448291e+10\n",
       "\n",
       "[8 rows x 6 columns]"
      ]
     },
     "execution_count": 48,
     "metadata": {},
     "output_type": "execute_result"
    }
   ],
   "source": [
    "maindf.describe()"
   ]
  },
  {
   "cell_type": "code",
   "execution_count": 49,
   "metadata": {},
   "outputs": [
    {
     "data": {
      "text/plain": [
       "0"
      ]
     },
     "execution_count": 49,
     "metadata": {},
     "output_type": "execute_result"
    }
   ],
   "source": [
    "maindf.isnull().values.sum()"
   ]
  },
  {
   "cell_type": "code",
   "execution_count": 50,
   "metadata": {},
   "outputs": [
    {
     "data": {
      "text/plain": [
       "False"
      ]
     },
     "execution_count": 50,
     "metadata": {},
     "output_type": "execute_result"
    }
   ],
   "source": [
    "maindf.isnull().values.any()"
   ]
  },
  {
   "cell_type": "code",
   "execution_count": 51,
   "metadata": {},
   "outputs": [
    {
     "data": {
      "text/plain": [
       "(1827, 7)"
      ]
     },
     "execution_count": 51,
     "metadata": {},
     "output_type": "execute_result"
    }
   ],
   "source": [
    "maindf.shape"
   ]
  },
  {
   "cell_type": "code",
   "execution_count": 52,
   "metadata": {},
   "outputs": [
    {
     "name": "stdout",
     "output_type": "stream",
     "text": [
      "Start Date:  2018-06-28\n",
      "End Date:  2023-06-28\n"
     ]
    }
   ],
   "source": [
    "sd = maindf.iloc[0][0]\n",
    "ed = maindf.iloc[-1][0]\n",
    "\n",
    "print(\"Start Date: \", sd)\n",
    "print(\"End Date: \", ed)"
   ]
  },
  {
   "cell_type": "code",
   "execution_count": 53,
   "metadata": {},
   "outputs": [],
   "source": [
    "maindf.drop(maindf[['Adj Close', 'Volume']], axis=1, inplace=True)"
   ]
  },
  {
   "cell_type": "code",
   "execution_count": 54,
   "metadata": {},
   "outputs": [
    {
     "data": {
      "text/html": [
       "<div>\n",
       "<style scoped>\n",
       "    .dataframe tbody tr th:only-of-type {\n",
       "        vertical-align: middle;\n",
       "    }\n",
       "\n",
       "    .dataframe tbody tr th {\n",
       "        vertical-align: top;\n",
       "    }\n",
       "\n",
       "    .dataframe thead th {\n",
       "        text-align: right;\n",
       "    }\n",
       "</style>\n",
       "<table border=\"1\" class=\"dataframe\">\n",
       "  <thead>\n",
       "    <tr style=\"text-align: right;\">\n",
       "      <th></th>\n",
       "      <th>Date</th>\n",
       "      <th>Open</th>\n",
       "      <th>High</th>\n",
       "      <th>Low</th>\n",
       "      <th>Close</th>\n",
       "    </tr>\n",
       "  </thead>\n",
       "  <tbody>\n",
       "    <tr>\n",
       "      <th>0</th>\n",
       "      <td>2018-06-28</td>\n",
       "      <td>442.290009</td>\n",
       "      <td>443.618011</td>\n",
       "      <td>419.683014</td>\n",
       "      <td>422.364990</td>\n",
       "    </tr>\n",
       "    <tr>\n",
       "      <th>1</th>\n",
       "      <td>2018-06-29</td>\n",
       "      <td>422.587006</td>\n",
       "      <td>441.792999</td>\n",
       "      <td>407.946991</td>\n",
       "      <td>436.009003</td>\n",
       "    </tr>\n",
       "    <tr>\n",
       "      <th>2</th>\n",
       "      <td>2018-06-30</td>\n",
       "      <td>436.209015</td>\n",
       "      <td>458.796997</td>\n",
       "      <td>436.209015</td>\n",
       "      <td>455.179993</td>\n",
       "    </tr>\n",
       "    <tr>\n",
       "      <th>3</th>\n",
       "      <td>2018-07-01</td>\n",
       "      <td>455.242004</td>\n",
       "      <td>457.139008</td>\n",
       "      <td>446.385010</td>\n",
       "      <td>453.917999</td>\n",
       "    </tr>\n",
       "    <tr>\n",
       "      <th>4</th>\n",
       "      <td>2018-07-02</td>\n",
       "      <td>453.824005</td>\n",
       "      <td>479.130005</td>\n",
       "      <td>447.110992</td>\n",
       "      <td>475.346985</td>\n",
       "    </tr>\n",
       "  </tbody>\n",
       "</table>\n",
       "</div>"
      ],
      "text/plain": [
       "         Date        Open        High         Low       Close\n",
       "0  2018-06-28  442.290009  443.618011  419.683014  422.364990\n",
       "1  2018-06-29  422.587006  441.792999  407.946991  436.009003\n",
       "2  2018-06-30  436.209015  458.796997  436.209015  455.179993\n",
       "3  2018-07-01  455.242004  457.139008  446.385010  453.917999\n",
       "4  2018-07-02  453.824005  479.130005  447.110992  475.346985"
      ]
     },
     "execution_count": 54,
     "metadata": {},
     "output_type": "execute_result"
    }
   ],
   "source": [
    "maindf.head()"
   ]
  },
  {
   "cell_type": "code",
   "execution_count": 55,
   "metadata": {},
   "outputs": [],
   "source": [
    "df = maindf[maindf['Date'] >= '2022-01-01']"
   ]
  },
  {
   "cell_type": "code",
   "execution_count": 56,
   "metadata": {},
   "outputs": [
    {
     "data": {
      "image/png": "[encoded data removed]",
      "text/plain": [
       "<Figure size 1600x800 with 1 Axes>"
      ]
     },
     "metadata": {},
     "output_type": "display_data"
    }
   ],
   "source": [
    "plt.figure(figsize=(16,8))\n",
    "plt.title('ETH-USD')\n",
    "plt.xlabel('Days')\n",
    "plt.ylabel('Close Price USD ($)')\n",
    "plt.plot(df['Close'])\n",
    "plt.show()\n"
   ]
  },
  {
   "cell_type": "code",
   "execution_count": 57,
   "metadata": {},
   "outputs": [],
   "source": [
    "del df['Date']"
   ]
  },
  {
   "cell_type": "code",
   "execution_count": 58,
   "metadata": {},
   "outputs": [],
   "source": [
    "scaler = MinMaxScaler(feature_range=(0,1))\n",
    "scaled_data = scaler.fit_transform(np.array(df).reshape(-1,1))"
   ]
  },
  {
   "cell_type": "code",
   "execution_count": 59,
   "metadata": {},
   "outputs": [
    {
     "name": "stdout",
     "output_type": "stream",
     "text": [
      "train_data:  (1305, 1)\n",
      "test_data:  (871, 1)\n"
     ]
    }
   ],
   "source": [
    "training_size=int(len(scaled_data)*0.60)\n",
    "test_size=len(scaled_data)-training_size\n",
    "train_data,test_data=scaled_data[0:training_size,:],scaled_data[training_size:len(scaled_data),:1]\n",
    "print(\"train_data: \", train_data.shape)\n",
    "print(\"test_data: \", test_data.shape)"
   ]
  },
  {
   "cell_type": "code",
   "execution_count": 60,
   "metadata": {},
   "outputs": [],
   "source": [
    "def create_dataset(dataset, time_step=1):\n",
    "    dataX, dataY = [], []\n",
    "    for i in range(len(dataset)-time_step-1):\n",
    "        a = dataset[i:(i+time_step), 0]   ###i=0, 0,1,2,3-----99   100 \n",
    "        dataX.append(a)\n",
    "        dataY.append(dataset[i + time_step, 0])\n",
    "    return np.array(dataX), np.array(dataY)"
   ]
  },
  {
   "cell_type": "code",
   "execution_count": 61,
   "metadata": {},
   "outputs": [
    {
     "name": "stdout",
     "output_type": "stream",
     "text": [
      "X_train:  (1289, 15)\n",
      "y_train:  (1289,)\n",
      "X_test:  (855, 15)\n",
      "y_test (855,)\n"
     ]
    }
   ],
   "source": [
    "time_step = 15\n",
    "X_train, y_train = create_dataset(train_data, time_step)\n",
    "X_test, y_test = create_dataset(test_data, time_step)\n",
    "\n",
    "print(\"X_train: \", X_train.shape)\n",
    "print(\"y_train: \", y_train.shape)\n",
    "print(\"X_test: \", X_test.shape)\n",
    "print(\"y_test\", y_test.shape)"
   ]
  },
  {
   "cell_type": "code",
   "execution_count": 62,
   "metadata": {},
   "outputs": [],
   "source": [
    "model=Sequential()\n",
    "\n",
    "model.add(LSTM(10,input_shape=(None,1),activation=\"relu\"))\n",
    "\n",
    "model.add(Dense(1))\n",
    "\n",
    "model.compile(loss=\"mean_squared_error\",optimizer=\"adam\")"
   ]
  },
  {
   "cell_type": "code",
   "execution_count": 63,
   "metadata": {},
   "outputs": [
    {
     "name": "stdout",
     "output_type": "stream",
     "text": [
      "Epoch 1/200\n",
      "41/41 [==============================] - 1s 5ms/step - loss: 0.1215 - val_loss: 0.0146\n",
      "Epoch 2/200\n",
      "41/41 [==============================] - 0s 3ms/step - loss: 0.0275 - val_loss: 0.0024\n",
      "Epoch 3/200\n",
      "41/41 [==============================] - 0s 3ms/step - loss: 0.0025 - val_loss: 7.2932e-04\n",
      "Epoch 4/200\n",
      "41/41 [==============================] - 0s 2ms/step - loss: 0.0015 - val_loss: 3.3494e-04\n",
      "Epoch 5/200\n",
      "41/41 [==============================] - 0s 3ms/step - loss: 0.0012 - val_loss: 2.2135e-04\n",
      "Epoch 6/200\n",
      "41/41 [==============================] - 0s 2ms/step - loss: 0.0011 - val_loss: 3.4584e-04\n",
      "Epoch 7/200\n",
      "41/41 [==============================] - 0s 2ms/step - loss: 9.8277e-04 - val_loss: 2.5156e-04\n",
      "Epoch 8/200\n",
      "41/41 [==============================] - 0s 3ms/step - loss: 8.4752e-04 - val_loss: 1.9042e-04\n",
      "Epoch 9/200\n",
      "41/41 [==============================] - 0s 2ms/step - loss: 8.2773e-04 - val_loss: 1.8600e-04\n",
      "Epoch 10/200\n",
      "41/41 [==============================] - 0s 3ms/step - loss: 7.7705e-04 - val_loss: 1.8438e-04\n",
      "Epoch 11/200\n",
      "41/41 [==============================] - 0s 3ms/step - loss: 7.7073e-04 - val_loss: 1.8409e-04\n",
      "Epoch 12/200\n",
      "41/41 [==============================] - 0s 2ms/step - loss: 7.7281e-04 - val_loss: 1.9330e-04\n",
      "Epoch 13/200\n",
      "41/41 [==============================] - 0s 3ms/step - loss: 8.4124e-04 - val_loss: 2.4234e-04\n",
      "Epoch 14/200\n",
      "41/41 [==============================] - 0s 3ms/step - loss: 8.3041e-04 - val_loss: 2.6948e-04\n",
      "Epoch 15/200\n",
      "41/41 [==============================] - 0s 2ms/step - loss: 7.7386e-04 - val_loss: 1.7855e-04\n",
      "Epoch 16/200\n",
      "41/41 [==============================] - 0s 3ms/step - loss: 7.4881e-04 - val_loss: 2.3684e-04\n",
      "Epoch 17/200\n",
      "41/41 [==============================] - 0s 2ms/step - loss: 7.8518e-04 - val_loss: 2.2420e-04\n",
      "Epoch 18/200\n",
      "41/41 [==============================] - 0s 3ms/step - loss: 7.5781e-04 - val_loss: 2.0876e-04\n",
      "Epoch 19/200\n",
      "41/41 [==============================] - 0s 3ms/step - loss: 7.4819e-04 - val_loss: 1.8333e-04\n",
      "Epoch 20/200\n",
      "41/41 [==============================] - 0s 3ms/step - loss: 7.8301e-04 - val_loss: 1.9377e-04\n",
      "Epoch 21/200\n",
      "41/41 [==============================] - 0s 3ms/step - loss: 7.5527e-04 - val_loss: 2.0729e-04\n",
      "Epoch 22/200\n",
      "41/41 [==============================] - 0s 3ms/step - loss: 7.3350e-04 - val_loss: 1.7616e-04\n",
      "Epoch 23/200\n",
      "41/41 [==============================] - 0s 3ms/step - loss: 7.6076e-04 - val_loss: 1.7784e-04\n",
      "Epoch 24/200\n",
      "41/41 [==============================] - 0s 2ms/step - loss: 7.9209e-04 - val_loss: 1.7533e-04\n",
      "Epoch 25/200\n",
      "41/41 [==============================] - 0s 2ms/step - loss: 7.7967e-04 - val_loss: 1.7812e-04\n",
      "Epoch 26/200\n",
      "41/41 [==============================] - 0s 2ms/step - loss: 7.7581e-04 - val_loss: 1.7673e-04\n",
      "Epoch 27/200\n",
      "41/41 [==============================] - 0s 2ms/step - loss: 7.3191e-04 - val_loss: 1.7431e-04\n",
      "Epoch 28/200\n",
      "41/41 [==============================] - 0s 2ms/step - loss: 7.3085e-04 - val_loss: 1.7261e-04\n",
      "Epoch 29/200\n",
      "41/41 [==============================] - 0s 2ms/step - loss: 7.7122e-04 - val_loss: 2.8086e-04\n",
      "Epoch 30/200\n",
      "41/41 [==============================] - 0s 2ms/step - loss: 8.0882e-04 - val_loss: 1.9647e-04\n",
      "Epoch 31/200\n",
      "41/41 [==============================] - 0s 3ms/step - loss: 7.3688e-04 - val_loss: 1.8593e-04\n",
      "Epoch 32/200\n",
      "41/41 [==============================] - 0s 3ms/step - loss: 7.4544e-04 - val_loss: 1.7638e-04\n",
      "Epoch 33/200\n",
      "41/41 [==============================] - 0s 3ms/step - loss: 7.3446e-04 - val_loss: 1.7242e-04\n",
      "Epoch 34/200\n",
      "41/41 [==============================] - 0s 3ms/step - loss: 7.4928e-04 - val_loss: 1.7046e-04\n",
      "Epoch 35/200\n",
      "41/41 [==============================] - 0s 3ms/step - loss: 7.4797e-04 - val_loss: 1.6885e-04\n",
      "Epoch 36/200\n",
      "41/41 [==============================] - 0s 3ms/step - loss: 7.4377e-04 - val_loss: 1.7057e-04\n",
      "Epoch 37/200\n",
      "41/41 [==============================] - 0s 3ms/step - loss: 8.0122e-04 - val_loss: 1.6906e-04\n",
      "Epoch 38/200\n",
      "41/41 [==============================] - 0s 3ms/step - loss: 7.4638e-04 - val_loss: 2.0808e-04\n",
      "Epoch 39/200\n",
      "41/41 [==============================] - 0s 3ms/step - loss: 7.2919e-04 - val_loss: 1.6989e-04\n",
      "Epoch 40/200\n",
      "41/41 [==============================] - 0s 3ms/step - loss: 7.1467e-04 - val_loss: 2.8688e-04\n",
      "Epoch 41/200\n",
      "41/41 [==============================] - 0s 3ms/step - loss: 7.7259e-04 - val_loss: 1.7769e-04\n",
      "Epoch 42/200\n",
      "41/41 [==============================] - 0s 3ms/step - loss: 7.2715e-04 - val_loss: 2.2301e-04\n",
      "Epoch 43/200\n",
      "41/41 [==============================] - 0s 3ms/step - loss: 7.2014e-04 - val_loss: 1.9074e-04\n",
      "Epoch 44/200\n",
      "41/41 [==============================] - 0s 3ms/step - loss: 7.4817e-04 - val_loss: 1.7948e-04\n",
      "Epoch 45/200\n",
      "41/41 [==============================] - 0s 3ms/step - loss: 7.1764e-04 - val_loss: 1.8068e-04\n",
      "Epoch 46/200\n",
      "41/41 [==============================] - 0s 3ms/step - loss: 7.2557e-04 - val_loss: 1.8137e-04\n",
      "Epoch 47/200\n",
      "41/41 [==============================] - 0s 3ms/step - loss: 7.3072e-04 - val_loss: 1.6767e-04\n",
      "Epoch 48/200\n",
      "41/41 [==============================] - 0s 3ms/step - loss: 7.1478e-04 - val_loss: 2.0203e-04\n",
      "Epoch 49/200\n",
      "41/41 [==============================] - 0s 3ms/step - loss: 7.3594e-04 - val_loss: 1.7888e-04\n",
      "Epoch 50/200\n",
      "41/41 [==============================] - 0s 3ms/step - loss: 7.0431e-04 - val_loss: 1.9337e-04\n",
      "Epoch 51/200\n",
      "41/41 [==============================] - 0s 3ms/step - loss: 7.0042e-04 - val_loss: 1.6888e-04\n",
      "Epoch 52/200\n",
      "41/41 [==============================] - 0s 3ms/step - loss: 7.0297e-04 - val_loss: 1.7858e-04\n",
      "Epoch 53/200\n",
      "41/41 [==============================] - 0s 3ms/step - loss: 7.3672e-04 - val_loss: 2.1723e-04\n",
      "Epoch 54/200\n",
      "41/41 [==============================] - 0s 3ms/step - loss: 6.9484e-04 - val_loss: 1.7760e-04\n",
      "Epoch 55/200\n",
      "41/41 [==============================] - 0s 3ms/step - loss: 7.1712e-04 - val_loss: 1.8827e-04\n",
      "Epoch 56/200\n",
      "41/41 [==============================] - 0s 3ms/step - loss: 7.0189e-04 - val_loss: 1.9000e-04\n",
      "Epoch 57/200\n",
      "41/41 [==============================] - 0s 3ms/step - loss: 6.9913e-04 - val_loss: 1.7553e-04\n",
      "Epoch 58/200\n",
      "41/41 [==============================] - 0s 3ms/step - loss: 7.1819e-04 - val_loss: 2.0744e-04\n",
      "Epoch 59/200\n",
      "41/41 [==============================] - 0s 3ms/step - loss: 7.5950e-04 - val_loss: 1.8358e-04\n",
      "Epoch 60/200\n",
      "41/41 [==============================] - 0s 3ms/step - loss: 7.0546e-04 - val_loss: 1.9124e-04\n",
      "Epoch 61/200\n",
      "41/41 [==============================] - 0s 3ms/step - loss: 7.1242e-04 - val_loss: 1.6462e-04\n",
      "Epoch 62/200\n",
      "41/41 [==============================] - 0s 3ms/step - loss: 7.0163e-04 - val_loss: 1.7150e-04\n",
      "Epoch 63/200\n",
      "41/41 [==============================] - 0s 3ms/step - loss: 6.8600e-04 - val_loss: 1.8702e-04\n",
      "Epoch 64/200\n",
      "41/41 [==============================] - 0s 3ms/step - loss: 7.1334e-04 - val_loss: 1.7539e-04\n",
      "Epoch 65/200\n",
      "41/41 [==============================] - 0s 3ms/step - loss: 7.0897e-04 - val_loss: 1.6236e-04\n",
      "Epoch 66/200\n",
      "41/41 [==============================] - 0s 3ms/step - loss: 6.9986e-04 - val_loss: 1.6368e-04\n",
      "Epoch 67/200\n",
      "41/41 [==============================] - 0s 3ms/step - loss: 7.0089e-04 - val_loss: 1.6894e-04\n",
      "Epoch 68/200\n",
      "41/41 [==============================] - 0s 3ms/step - loss: 7.0849e-04 - val_loss: 1.6680e-04\n",
      "Epoch 69/200\n",
      "41/41 [==============================] - 0s 3ms/step - loss: 6.9604e-04 - val_loss: 1.7184e-04\n",
      "Epoch 70/200\n",
      "41/41 [==============================] - 0s 3ms/step - loss: 7.1632e-04 - val_loss: 1.8076e-04\n",
      "Epoch 71/200\n",
      "41/41 [==============================] - 0s 3ms/step - loss: 7.0313e-04 - val_loss: 1.6176e-04\n",
      "Epoch 72/200\n",
      "41/41 [==============================] - 0s 3ms/step - loss: 6.9062e-04 - val_loss: 1.6702e-04\n",
      "Epoch 73/200\n",
      "41/41 [==============================] - 0s 3ms/step - loss: 7.1161e-04 - val_loss: 1.6156e-04\n",
      "Epoch 74/200\n",
      "41/41 [==============================] - 0s 3ms/step - loss: 7.1048e-04 - val_loss: 1.6226e-04\n",
      "Epoch 75/200\n",
      "41/41 [==============================] - 0s 3ms/step - loss: 6.9395e-04 - val_loss: 1.6114e-04\n",
      "Epoch 76/200\n",
      "41/41 [==============================] - 0s 3ms/step - loss: 7.1082e-04 - val_loss: 1.6481e-04\n",
      "Epoch 77/200\n",
      "41/41 [==============================] - 0s 3ms/step - loss: 6.8681e-04 - val_loss: 1.6140e-04\n",
      "Epoch 78/200\n",
      "41/41 [==============================] - 0s 3ms/step - loss: 7.0851e-04 - val_loss: 1.6054e-04\n",
      "Epoch 79/200\n",
      "41/41 [==============================] - 0s 3ms/step - loss: 6.8459e-04 - val_loss: 2.3254e-04\n",
      "Epoch 80/200\n",
      "41/41 [==============================] - 0s 3ms/step - loss: 6.9505e-04 - val_loss: 1.7953e-04\n",
      "Epoch 81/200\n",
      "41/41 [==============================] - 0s 3ms/step - loss: 7.6562e-04 - val_loss: 1.6031e-04\n",
      "Epoch 82/200\n",
      "41/41 [==============================] - 0s 3ms/step - loss: 7.0856e-04 - val_loss: 1.5990e-04\n",
      "Epoch 83/200\n",
      "41/41 [==============================] - 0s 3ms/step - loss: 6.9024e-04 - val_loss: 1.6122e-04\n",
      "Epoch 84/200\n",
      "41/41 [==============================] - 0s 3ms/step - loss: 6.9752e-04 - val_loss: 1.6281e-04\n",
      "Epoch 85/200\n",
      "41/41 [==============================] - 0s 3ms/step - loss: 6.9200e-04 - val_loss: 1.6293e-04\n",
      "Epoch 86/200\n",
      "41/41 [==============================] - 0s 3ms/step - loss: 6.9559e-04 - val_loss: 1.5922e-04\n",
      "Epoch 87/200\n",
      "41/41 [==============================] - 0s 3ms/step - loss: 7.0360e-04 - val_loss: 1.6071e-04\n",
      "Epoch 88/200\n",
      "41/41 [==============================] - 0s 3ms/step - loss: 6.9643e-04 - val_loss: 1.6028e-04\n",
      "Epoch 89/200\n",
      "41/41 [==============================] - 0s 3ms/step - loss: 6.8829e-04 - val_loss: 2.1060e-04\n",
      "Epoch 90/200\n",
      "41/41 [==============================] - 0s 3ms/step - loss: 7.1257e-04 - val_loss: 1.7002e-04\n",
      "Epoch 91/200\n",
      "41/41 [==============================] - 0s 3ms/step - loss: 7.0629e-04 - val_loss: 2.0844e-04\n",
      "Epoch 92/200\n",
      "41/41 [==============================] - 0s 3ms/step - loss: 6.8053e-04 - val_loss: 2.3003e-04\n",
      "Epoch 93/200\n",
      "41/41 [==============================] - 0s 3ms/step - loss: 7.0637e-04 - val_loss: 1.9437e-04\n",
      "Epoch 94/200\n",
      "41/41 [==============================] - 0s 3ms/step - loss: 7.1467e-04 - val_loss: 1.6117e-04\n",
      "Epoch 95/200\n",
      "41/41 [==============================] - 0s 3ms/step - loss: 7.1162e-04 - val_loss: 2.3103e-04\n",
      "Epoch 96/200\n",
      "41/41 [==============================] - 0s 3ms/step - loss: 6.8359e-04 - val_loss: 1.5876e-04\n",
      "Epoch 97/200\n",
      "41/41 [==============================] - 0s 3ms/step - loss: 6.8276e-04 - val_loss: 1.5813e-04\n",
      "Epoch 98/200\n",
      "41/41 [==============================] - 0s 3ms/step - loss: 6.8071e-04 - val_loss: 2.1491e-04\n",
      "Epoch 99/200\n",
      "41/41 [==============================] - 0s 3ms/step - loss: 7.2829e-04 - val_loss: 1.9138e-04\n",
      "Epoch 100/200\n",
      "41/41 [==============================] - 0s 3ms/step - loss: 7.0742e-04 - val_loss: 1.6277e-04\n",
      "Epoch 101/200\n",
      "41/41 [==============================] - 0s 3ms/step - loss: 7.0563e-04 - val_loss: 2.5090e-04\n",
      "Epoch 102/200\n",
      "41/41 [==============================] - 0s 3ms/step - loss: 6.9966e-04 - val_loss: 1.6743e-04\n",
      "Epoch 103/200\n",
      "41/41 [==============================] - 0s 3ms/step - loss: 7.0365e-04 - val_loss: 1.5856e-04\n",
      "Epoch 104/200\n",
      "41/41 [==============================] - 0s 3ms/step - loss: 6.8056e-04 - val_loss: 1.6473e-04\n",
      "Epoch 105/200\n",
      "41/41 [==============================] - 0s 3ms/step - loss: 6.8694e-04 - val_loss: 1.7790e-04\n",
      "Epoch 106/200\n",
      "41/41 [==============================] - 0s 3ms/step - loss: 7.0584e-04 - val_loss: 1.5850e-04\n",
      "Epoch 107/200\n",
      "41/41 [==============================] - 0s 3ms/step - loss: 6.7738e-04 - val_loss: 1.5775e-04\n",
      "Epoch 108/200\n",
      "41/41 [==============================] - 0s 3ms/step - loss: 6.8621e-04 - val_loss: 1.6978e-04\n",
      "Epoch 109/200\n",
      "41/41 [==============================] - 0s 3ms/step - loss: 6.7795e-04 - val_loss: 1.6125e-04\n",
      "Epoch 110/200\n",
      "41/41 [==============================] - 0s 3ms/step - loss: 6.8115e-04 - val_loss: 1.7757e-04\n",
      "Epoch 111/200\n",
      "41/41 [==============================] - 0s 3ms/step - loss: 7.1035e-04 - val_loss: 2.0257e-04\n",
      "Epoch 112/200\n",
      "41/41 [==============================] - 0s 3ms/step - loss: 6.8123e-04 - val_loss: 1.6571e-04\n",
      "Epoch 113/200\n",
      "41/41 [==============================] - 0s 3ms/step - loss: 6.8368e-04 - val_loss: 1.5766e-04\n",
      "Epoch 114/200\n",
      "41/41 [==============================] - 0s 3ms/step - loss: 6.8482e-04 - val_loss: 1.5701e-04\n",
      "Epoch 115/200\n",
      "41/41 [==============================] - 0s 3ms/step - loss: 6.7903e-04 - val_loss: 1.6339e-04\n",
      "Epoch 116/200\n",
      "41/41 [==============================] - 0s 3ms/step - loss: 6.9203e-04 - val_loss: 2.0563e-04\n",
      "Epoch 117/200\n",
      "41/41 [==============================] - 0s 3ms/step - loss: 6.7947e-04 - val_loss: 2.7730e-04\n",
      "Epoch 118/200\n",
      "41/41 [==============================] - 0s 3ms/step - loss: 6.9024e-04 - val_loss: 2.1793e-04\n",
      "Epoch 119/200\n",
      "41/41 [==============================] - 0s 3ms/step - loss: 6.8424e-04 - val_loss: 2.3280e-04\n",
      "Epoch 120/200\n",
      "41/41 [==============================] - 0s 3ms/step - loss: 7.0994e-04 - val_loss: 1.6204e-04\n",
      "Epoch 121/200\n",
      "41/41 [==============================] - 0s 3ms/step - loss: 7.1589e-04 - val_loss: 1.6516e-04\n",
      "Epoch 122/200\n",
      "41/41 [==============================] - 0s 3ms/step - loss: 6.8188e-04 - val_loss: 1.7496e-04\n",
      "Epoch 123/200\n",
      "41/41 [==============================] - 0s 3ms/step - loss: 6.8100e-04 - val_loss: 1.5661e-04\n",
      "Epoch 124/200\n",
      "41/41 [==============================] - 0s 3ms/step - loss: 6.9179e-04 - val_loss: 1.5989e-04\n",
      "Epoch 125/200\n",
      "41/41 [==============================] - 0s 3ms/step - loss: 6.6765e-04 - val_loss: 1.5827e-04\n",
      "Epoch 126/200\n",
      "41/41 [==============================] - 0s 3ms/step - loss: 6.6652e-04 - val_loss: 1.6431e-04\n",
      "Epoch 127/200\n",
      "41/41 [==============================] - 0s 3ms/step - loss: 6.9172e-04 - val_loss: 1.5747e-04\n",
      "Epoch 128/200\n",
      "41/41 [==============================] - 0s 3ms/step - loss: 6.7494e-04 - val_loss: 1.5773e-04\n",
      "Epoch 129/200\n",
      "41/41 [==============================] - 0s 3ms/step - loss: 6.9989e-04 - val_loss: 1.8946e-04\n",
      "Epoch 130/200\n",
      "41/41 [==============================] - 0s 3ms/step - loss: 7.0948e-04 - val_loss: 1.9402e-04\n",
      "Epoch 131/200\n",
      "41/41 [==============================] - 0s 3ms/step - loss: 6.9275e-04 - val_loss: 1.8297e-04\n",
      "Epoch 132/200\n",
      "41/41 [==============================] - 0s 3ms/step - loss: 6.7320e-04 - val_loss: 2.9290e-04\n",
      "Epoch 133/200\n",
      "41/41 [==============================] - 0s 3ms/step - loss: 6.9106e-04 - val_loss: 2.3510e-04\n",
      "Epoch 134/200\n",
      "41/41 [==============================] - 0s 3ms/step - loss: 6.9577e-04 - val_loss: 1.5653e-04\n",
      "Epoch 135/200\n",
      "41/41 [==============================] - 0s 3ms/step - loss: 6.9435e-04 - val_loss: 1.5759e-04\n",
      "Epoch 136/200\n",
      "41/41 [==============================] - 0s 3ms/step - loss: 6.9690e-04 - val_loss: 1.8780e-04\n",
      "Epoch 137/200\n",
      "41/41 [==============================] - 0s 3ms/step - loss: 7.0514e-04 - val_loss: 1.5975e-04\n",
      "Epoch 138/200\n",
      "41/41 [==============================] - 0s 3ms/step - loss: 6.8710e-04 - val_loss: 2.2828e-04\n",
      "Epoch 139/200\n",
      "41/41 [==============================] - 0s 3ms/step - loss: 6.9325e-04 - val_loss: 1.5695e-04\n",
      "Epoch 140/200\n",
      "41/41 [==============================] - 0s 3ms/step - loss: 6.7304e-04 - val_loss: 1.6933e-04\n",
      "Epoch 141/200\n",
      "41/41 [==============================] - 0s 3ms/step - loss: 6.8928e-04 - val_loss: 3.0522e-04\n",
      "Epoch 142/200\n",
      "41/41 [==============================] - 0s 3ms/step - loss: 6.9497e-04 - val_loss: 1.9685e-04\n",
      "Epoch 143/200\n",
      "41/41 [==============================] - 0s 3ms/step - loss: 6.9707e-04 - val_loss: 1.6407e-04\n",
      "Epoch 144/200\n",
      "41/41 [==============================] - 0s 3ms/step - loss: 6.7451e-04 - val_loss: 1.5604e-04\n",
      "Epoch 145/200\n",
      "41/41 [==============================] - 0s 3ms/step - loss: 6.8032e-04 - val_loss: 1.5557e-04\n",
      "Epoch 146/200\n",
      "41/41 [==============================] - 0s 3ms/step - loss: 6.8638e-04 - val_loss: 1.5694e-04\n",
      "Epoch 147/200\n",
      "41/41 [==============================] - 0s 3ms/step - loss: 7.0742e-04 - val_loss: 1.6026e-04\n",
      "Epoch 148/200\n",
      "41/41 [==============================] - 0s 3ms/step - loss: 6.7430e-04 - val_loss: 2.1565e-04\n",
      "Epoch 149/200\n",
      "41/41 [==============================] - 0s 3ms/step - loss: 6.7104e-04 - val_loss: 1.5656e-04\n",
      "Epoch 150/200\n",
      "41/41 [==============================] - 0s 3ms/step - loss: 6.6846e-04 - val_loss: 1.5980e-04\n",
      "Epoch 151/200\n",
      "41/41 [==============================] - 0s 3ms/step - loss: 7.1336e-04 - val_loss: 1.6639e-04\n",
      "Epoch 152/200\n",
      "41/41 [==============================] - 0s 3ms/step - loss: 6.9556e-04 - val_loss: 1.6182e-04\n",
      "Epoch 153/200\n",
      "41/41 [==============================] - 0s 3ms/step - loss: 6.7589e-04 - val_loss: 1.5607e-04\n",
      "Epoch 154/200\n",
      "41/41 [==============================] - 0s 3ms/step - loss: 6.6105e-04 - val_loss: 1.9962e-04\n",
      "Epoch 155/200\n",
      "41/41 [==============================] - 0s 3ms/step - loss: 6.7953e-04 - val_loss: 1.5554e-04\n",
      "Epoch 156/200\n",
      "41/41 [==============================] - 0s 3ms/step - loss: 6.7596e-04 - val_loss: 1.5662e-04\n",
      "Epoch 157/200\n",
      "41/41 [==============================] - 0s 3ms/step - loss: 7.0249e-04 - val_loss: 1.9867e-04\n",
      "Epoch 158/200\n",
      "41/41 [==============================] - 0s 3ms/step - loss: 6.6859e-04 - val_loss: 1.7417e-04\n",
      "Epoch 159/200\n",
      "41/41 [==============================] - 0s 3ms/step - loss: 7.6102e-04 - val_loss: 1.6682e-04\n",
      "Epoch 160/200\n",
      "41/41 [==============================] - 0s 3ms/step - loss: 6.7490e-04 - val_loss: 1.7110e-04\n",
      "Epoch 161/200\n",
      "41/41 [==============================] - 0s 3ms/step - loss: 6.6488e-04 - val_loss: 1.7218e-04\n",
      "Epoch 162/200\n",
      "41/41 [==============================] - 0s 3ms/step - loss: 6.7428e-04 - val_loss: 2.1341e-04\n",
      "Epoch 163/200\n",
      "41/41 [==============================] - 0s 3ms/step - loss: 7.2126e-04 - val_loss: 1.6095e-04\n",
      "Epoch 164/200\n",
      "41/41 [==============================] - 0s 3ms/step - loss: 6.7476e-04 - val_loss: 1.5523e-04\n",
      "Epoch 165/200\n",
      "41/41 [==============================] - 0s 3ms/step - loss: 6.7699e-04 - val_loss: 1.8805e-04\n",
      "Epoch 166/200\n",
      "41/41 [==============================] - 0s 3ms/step - loss: 6.8945e-04 - val_loss: 2.0075e-04\n",
      "Epoch 167/200\n",
      "41/41 [==============================] - 0s 3ms/step - loss: 6.7987e-04 - val_loss: 1.9949e-04\n",
      "Epoch 168/200\n",
      "41/41 [==============================] - 0s 3ms/step - loss: 6.7762e-04 - val_loss: 1.5562e-04\n",
      "Epoch 169/200\n",
      "41/41 [==============================] - 0s 3ms/step - loss: 6.8356e-04 - val_loss: 1.6635e-04\n",
      "Epoch 170/200\n",
      "41/41 [==============================] - 0s 3ms/step - loss: 6.7799e-04 - val_loss: 1.5567e-04\n",
      "Epoch 171/200\n",
      "41/41 [==============================] - 0s 3ms/step - loss: 6.6909e-04 - val_loss: 1.5551e-04\n",
      "Epoch 172/200\n",
      "41/41 [==============================] - 0s 3ms/step - loss: 6.9755e-04 - val_loss: 1.5856e-04\n",
      "Epoch 173/200\n",
      "41/41 [==============================] - 0s 3ms/step - loss: 7.2489e-04 - val_loss: 1.6621e-04\n",
      "Epoch 174/200\n",
      "41/41 [==============================] - 0s 3ms/step - loss: 6.8307e-04 - val_loss: 1.6183e-04\n",
      "Epoch 175/200\n",
      "41/41 [==============================] - 0s 3ms/step - loss: 6.6396e-04 - val_loss: 1.5599e-04\n",
      "Epoch 176/200\n",
      "41/41 [==============================] - 0s 3ms/step - loss: 7.0116e-04 - val_loss: 1.7966e-04\n",
      "Epoch 177/200\n",
      "41/41 [==============================] - 0s 3ms/step - loss: 7.0536e-04 - val_loss: 1.6111e-04\n",
      "Epoch 178/200\n",
      "41/41 [==============================] - 0s 3ms/step - loss: 6.8254e-04 - val_loss: 1.6248e-04\n",
      "Epoch 179/200\n",
      "41/41 [==============================] - 0s 3ms/step - loss: 7.1705e-04 - val_loss: 2.2263e-04\n",
      "Epoch 180/200\n",
      "41/41 [==============================] - 0s 3ms/step - loss: 6.6746e-04 - val_loss: 1.5475e-04\n",
      "Epoch 181/200\n",
      "41/41 [==============================] - 0s 3ms/step - loss: 6.8127e-04 - val_loss: 1.5490e-04\n",
      "Epoch 182/200\n",
      "41/41 [==============================] - 0s 3ms/step - loss: 6.6911e-04 - val_loss: 1.9836e-04\n",
      "Epoch 183/200\n",
      "41/41 [==============================] - 0s 3ms/step - loss: 7.0105e-04 - val_loss: 2.8545e-04\n",
      "Epoch 184/200\n",
      "41/41 [==============================] - 0s 3ms/step - loss: 6.8396e-04 - val_loss: 1.5902e-04\n",
      "Epoch 185/200\n",
      "41/41 [==============================] - 0s 3ms/step - loss: 6.8617e-04 - val_loss: 1.6776e-04\n",
      "Epoch 186/200\n",
      "41/41 [==============================] - 0s 3ms/step - loss: 7.1147e-04 - val_loss: 1.6081e-04\n",
      "Epoch 187/200\n",
      "41/41 [==============================] - 0s 3ms/step - loss: 6.8431e-04 - val_loss: 1.6859e-04\n",
      "Epoch 188/200\n",
      "41/41 [==============================] - 0s 3ms/step - loss: 6.8382e-04 - val_loss: 1.6129e-04\n",
      "Epoch 189/200\n",
      "41/41 [==============================] - 0s 3ms/step - loss: 6.6017e-04 - val_loss: 1.7234e-04\n",
      "Epoch 190/200\n",
      "41/41 [==============================] - 0s 2ms/step - loss: 6.8593e-04 - val_loss: 1.5742e-04\n",
      "Epoch 191/200\n",
      "41/41 [==============================] - 0s 2ms/step - loss: 6.6137e-04 - val_loss: 1.6048e-04\n",
      "Epoch 192/200\n",
      "41/41 [==============================] - 0s 2ms/step - loss: 6.7412e-04 - val_loss: 1.5547e-04\n",
      "Epoch 193/200\n",
      "41/41 [==============================] - 0s 2ms/step - loss: 6.7592e-04 - val_loss: 1.7253e-04\n",
      "Epoch 194/200\n",
      "41/41 [==============================] - 0s 2ms/step - loss: 6.6448e-04 - val_loss: 1.7706e-04\n",
      "Epoch 195/200\n",
      "41/41 [==============================] - 0s 3ms/step - loss: 6.6673e-04 - val_loss: 1.5677e-04\n",
      "Epoch 196/200\n",
      "41/41 [==============================] - 0s 2ms/step - loss: 6.6133e-04 - val_loss: 1.6256e-04\n",
      "Epoch 197/200\n",
      "41/41 [==============================] - 0s 3ms/step - loss: 7.0405e-04 - val_loss: 1.7814e-04\n",
      "Epoch 198/200\n",
      "41/41 [==============================] - 0s 2ms/step - loss: 6.8514e-04 - val_loss: 1.6670e-04\n",
      "Epoch 199/200\n",
      "41/41 [==============================] - 0s 2ms/step - loss: 6.5964e-04 - val_loss: 1.5674e-04\n",
      "Epoch 200/200\n",
      "41/41 [==============================] - 0s 2ms/step - loss: 6.6995e-04 - val_loss: 1.8402e-04\n"
     ]
    }
   ],
   "source": [
    "history = model.fit(X_train,y_train,validation_data=(X_test,y_test),epochs=200,batch_size=32,verbose=1)"
   ]
  },
  {
   "cell_type": "code",
   "execution_count": 64,
   "metadata": {},
   "outputs": [
    {
     "data": {
      "image/png": "[encoded data removed]",
      "text/plain": [
       "<Figure size 640x480 with 1 Axes>"
      ]
     },
     "metadata": {},
     "output_type": "display_data"
    },
    {
     "data": {
      "text/plain": [
       "<Figure size 640x480 with 0 Axes>"
      ]
     },
     "metadata": {},
     "output_type": "display_data"
    }
   ],
   "source": [
    "loss = history.history['loss']\n",
    "val_loss = history.history['val_loss']\n",
    "\n",
    "epochs = range(len(loss))\n",
    "\n",
    "plt.plot(epochs, loss, 'r', label='Training loss')\n",
    "plt.plot(epochs, val_loss, 'b', label='Validation loss')\n",
    "plt.title('Training and validation loss')\n",
    "plt.legend(loc=0)\n",
    "plt.figure()\n",
    "\n",
    "\n",
    "plt.show()\n"
   ]
  },
  {
   "cell_type": "code",
   "execution_count": 65,
   "metadata": {},
   "outputs": [
    {
     "name": "stdout",
     "output_type": "stream",
     "text": [
      "41/41 [==============================] - 0s 762us/step\n",
      "27/27 [==============================] - 0s 718us/step\n"
     ]
    },
    {
     "data": {
      "text/plain": [
       "((1289, 1), (855, 1))"
      ]
     },
     "execution_count": 65,
     "metadata": {},
     "output_type": "execute_result"
    }
   ],
   "source": [
    "train_predict=model.predict(X_train)\n",
    "test_predict=model.predict(X_test)\n",
    "train_predict.shape, test_predict.shape"
   ]
  },
  {
   "cell_type": "code",
   "execution_count": 66,
   "metadata": {},
   "outputs": [],
   "source": [
    "# Transform back to original form\n",
    "\n",
    "train_predict = scaler.inverse_transform(train_predict)\n",
    "test_predict = scaler.inverse_transform(test_predict)\n",
    "original_ytrain = scaler.inverse_transform(y_train.reshape(-1,1)) \n",
    "original_ytest = scaler.inverse_transform(y_test.reshape(-1,1)) "
   ]
  },
  {
   "cell_type": "code",
   "execution_count": 67,
   "metadata": {},
   "outputs": [
    {
     "name": "stdout",
     "output_type": "stream",
     "text": [
      "Train data RMSE:  80.55820113660158\n",
      "Train data MSE:  6489.623770365156\n",
      "Train data MAE:  56.94786825504267\n",
      "-------------------------------------------------------------------------------------\n",
      "Test data RMSE:  40.43439722471562\n",
      "Test data MSE:  1634.9404789260902\n",
      "Test data MAE:  30.525605059448093\n"
     ]
    }
   ],
   "source": [
    "print(\"Train data RMSE: \", math.sqrt(mean_squared_error(original_ytrain,train_predict)))\n",
    "print(\"Train data MSE: \", mean_squared_error(original_ytrain,train_predict))\n",
    "print(\"Train data MAE: \", mean_absolute_error(original_ytrain,train_predict))\n",
    "print(\"-------------------------------------------------------------------------------------\")\n",
    "print(\"Test data RMSE: \", math.sqrt(mean_squared_error(original_ytest,test_predict)))\n",
    "print(\"Test data MSE: \", mean_squared_error(original_ytest,test_predict))\n",
    "print(\"Test data MAE: \", mean_absolute_error(original_ytest,test_predict))"
   ]
  },
  {
   "cell_type": "code",
   "execution_count": 68,
   "metadata": {},
   "outputs": [
    {
     "name": "stdout",
     "output_type": "stream",
     "text": [
      "Train data explained variance regression score: 0.9897885323390688\n",
      "Test data explained variance regression score: 0.9775603707616357\n"
     ]
    }
   ],
   "source": [
    "print(\"Train data explained variance regression score:\", \n",
    "      explained_variance_score(original_ytrain, train_predict))\n",
    "print(\"Test data explained variance regression score:\", \n",
    "      explained_variance_score(original_ytest, test_predict))"
   ]
  },
  {
   "cell_type": "code",
   "execution_count": 69,
   "metadata": {},
   "outputs": [
    {
     "name": "stdout",
     "output_type": "stream",
     "text": [
      "Train data R2 score: 0.988647271600182\n",
      "Test data R2 score: 0.973333514289109\n"
     ]
    }
   ],
   "source": [
    "print(\"Train data R2 score:\", r2_score(original_ytrain, train_predict))\n",
    "print(\"Test data R2 score:\", r2_score(original_ytest, test_predict))"
   ]
  },
  {
   "cell_type": "code",
   "execution_count": 70,
   "metadata": {},
   "outputs": [
    {
     "name": "stdout",
     "output_type": "stream",
     "text": [
      "Train data MGD:  0.001635722816461697\n",
      "Test data MGD:  0.000588006227597643\n",
      "----------------------------------------------------------------------\n",
      "Train data MPD:  3.050946929892235\n",
      "Test data MPD:  0.9696763153198387\n"
     ]
    }
   ],
   "source": [
    "print(\"Train data MGD: \", mean_gamma_deviance(original_ytrain, train_predict))\n",
    "print(\"Test data MGD: \", mean_gamma_deviance(original_ytest, test_predict))\n",
    "print(\"----------------------------------------------------------------------\")\n",
    "print(\"Train data MPD: \", mean_poisson_deviance(original_ytrain, train_predict))\n",
    "print(\"Test data MPD: \", mean_poisson_deviance(original_ytest, test_predict))"
   ]
  },
  {
   "cell_type": "code",
   "execution_count": null,
   "metadata": {},
   "outputs": [],
   "source": []
  }
 ],
 "metadata": {
  "kernelspec": {
   "display_name": "Python 3",
   "language": "python",
   "name": "python3"
  },
  "language_info": {
   "codemirror_mode": {
    "name": "ipython",
    "version": 3
   },
   "file_extension": ".py",
   "mimetype": "text/x-python",
   "name": "python",
   "nbconvert_exporter": "python",
   "pygments_lexer": "ipython3",
   "version": "3.9.17"
  },
  "orig_nbformat": 4
 },
 "nbformat": 4,
 "nbformat_minor": 2
}
